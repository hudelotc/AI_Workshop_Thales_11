{
 "cells": [
  {
   "cell_type": "markdown",
   "metadata": {},
   "source": [
    "# Constraint programming\n",
    "\n",
    "Source of the lab : [https://www.xoolive.org/constraints/](https://www.xoolive.org/constraints/)\n",
    "\n",
    "\n",
    "We will use and import the `facile` library ([documentation](https://facile.readthedocs.io)) which gives access to a constraint programming API in Python.  \n",
    "\n",
    "This notebook goes through basic notions of constraint programming, at a reasonable pace.  \n",
    "The lecturer will explain more advanced concepts as the group moves forward and/or on demand.\n",
    "\n",
    "- Solutions appear on demand as you uncomment the `%load` comments, but the point of the session is to **try first** without being stuck.\n",
    "\n",
    "- You will find in the notebook blocks of different colors:\n",
    "\n",
    "<div class=\"alert alert-warning\">\n",
    "**Questions** appear in yellow.\n",
    "</div>\n",
    "\n",
    "<div class=\"alert alert-danger\">\n",
    "You should **fully understand** what appears in red.\n",
    "</div>\n",
    "\n",
    "<div class=\"alert alert-info\">\n",
    "Blue blocks push *beyond the scope* of this course.\n",
    "</div>"
   ]
  },
  {
   "cell_type": "code",
   "execution_count": 1,
   "metadata": {
    "scrolled": true
   },
   "outputs": [
    {
     "name": "stdout",
     "output_type": "stream",
     "text": [
      "Requirement already satisfied: facile in /Users/hudelotc/opt/miniconda3/lib/python3.8/site-packages (1.5)\r\n",
      "Requirement already satisfied: importlib-metadata<5.0.0,>=4.6.1 in /Users/hudelotc/opt/miniconda3/lib/python3.8/site-packages (from facile) (4.10.1)\r\n",
      "Requirement already satisfied: zipp>=0.5 in /Users/hudelotc/opt/miniconda3/lib/python3.8/site-packages (from importlib-metadata<5.0.0,>=4.6.1->facile) (3.4.1)\r\n"
     ]
    }
   ],
   "source": [
    "!pip install facile"
   ]
  },
  {
   "cell_type": "code",
   "execution_count": 2,
   "metadata": {},
   "outputs": [],
   "source": [
    "import facile"
   ]
  },
  {
   "cell_type": "markdown",
   "metadata": {},
   "source": [
    "<div class=\"alert alert-success\">\n",
    "<b>Example :</b><br />\n",
    "We consider the problem of two variables taking their values on $a,b \\in \\{0,1\\}$, and constrained by $a \\neq b$.<br />\n",
    "\n",
    "Find admissible values for $a$ and $b$.\n",
    "</div>"
   ]
  },
  {
   "cell_type": "markdown",
   "metadata": {},
   "source": [
    "The basic syntax of `facile` goes as follows:"
   ]
  },
  {
   "cell_type": "code",
   "execution_count": 3,
   "metadata": {},
   "outputs": [
    {
     "name": "stdout",
     "output_type": "stream",
     "text": [
      "Solution found : a=0, b=1\n"
     ]
    }
   ],
   "source": [
    "# Variables\n",
    "#\n",
    "# facile.variable may be used with an inclusive min value and an inclusive max value as parameters\n",
    "# e.g. facile.variable(0,3)  -->  domain is {0,1,2,3}\n",
    "# OR\n",
    "# facile.variable may be given a list of possible values\n",
    "# e.g. facile.variable([0,3]) -->  domain is {0,3} (and neither 1 nor 2 are possible values)\n",
    "#\n",
    "# a and b are both defined on {0, 1}\n",
    "a = facile.variable([0, 1])\n",
    "b = facile.variable([0, 1])\n",
    "\n",
    "# Constraints\n",
    "# Expressions and constraints can be built with usual operators: +, *, <=, etc.\n",
    "facile.constraint(a != b)\n",
    "\n",
    "# Resolution\n",
    "# We want a solution for a and b and get their values with method .value()\n",
    "sol = facile.solve([a, b])\n",
    "\n",
    "assert sol, \"No solution found\"\n",
    "print(\"Solution found : a={}, b={}\".format(a.value(), b.value()))"
   ]
  },
  {
   "cell_type": "markdown",
   "metadata": {},
   "source": [
    "## Basic problems"
   ]
  },
  {
   "cell_type": "markdown",
   "metadata": {},
   "source": [
    "<div class=\"alert alert-warning\">\n",
    "<b>Problem #1: (super easy)</b><br />\n",
    "\n",
    "Consider the following problem. Modify it so as it has a solution.\n",
    "</div>"
   ]
  },
  {
   "cell_type": "code",
   "execution_count": 4,
   "metadata": {},
   "outputs": [
    {
     "name": "stdout",
     "output_type": "stream",
     "text": [
      "No solution found\n"
     ]
    }
   ],
   "source": [
    "# Variables\n",
    "a = facile.variable([0, 1])\n",
    "b = facile.variable([0, 1])\n",
    "c = facile.variable([0, 1])\n",
    "\n",
    "# Constraints\n",
    "facile.constraint(a != b)\n",
    "facile.constraint(b != c)\n",
    "facile.constraint(c != a)\n",
    "\n",
    "# Resolution\n",
    "if facile.solve([a, b, c]):\n",
    "    print(\"Solution found : a=%d, b=%d, c=%d\" % (a.value(), b.value(), c.value()))\n",
    "else:\n",
    "    print(\"No solution found\")"
   ]
  },
  {
   "cell_type": "markdown",
   "metadata": {},
   "source": [
    "<div class=\"alert alert-warning\">\n",
    "<b>Problem #2: (easy)</b><br />\n",
    "\n",
    "Find four integers so that their sum is 711 and their product is 711000000.\n",
    "</div>\n",
    "\n",
    "<div class=\"alert alert-info\">\n",
    "The original problem is stated as follows:\n",
    "<blockquote>\n",
    "A guy walks into a 7-11 store and selects four items to buy. The clerk at the counter informs the gentleman that the total cost of the four items is 7.11 dollars. He was completely surprised that the cost was the same as the name of the store. The clerk informed the man that he simply multiplied the cost of each item and arrived at the total. The customer calmly informed the clerk that the items should be added and not multiplied. The clerk then added the items together and informed the customer that the total was still exactly 7.11 dollars.\n",
    "<br/><br/>\n",
    "What are the exact costs of each item?\n",
    "</blockquote>\n",
    "\n",
    "We can find a beautiful [algebraic resolution](http://everydayexplanations.blogspot.fr/2011/08/711-problem.html) which may help to define the domains of each value.\n",
    "\n",
    "</div>"
   ]
  },
  {
   "cell_type": "code",
   "execution_count": 5,
   "metadata": {},
   "outputs": [
    {
     "name": "stdout",
     "output_type": "stream",
     "text": [
      "Solution found: a=0, b=0, c=0, d=0\n"
     ]
    }
   ],
   "source": [
    "# Variables\n",
    "# There is a risk of integer overflow when computing a*b*c*d\n",
    "# We need small domains...\n",
    "\n",
    "a = facile.variable(range(0, 320))\n",
    "b = facile.variable(range(0, 160))\n",
    "c = facile.variable(range(0, 130))\n",
    "d = facile.variable(range(0, 130))\n",
    "\n",
    "# Constraints\n",
    "\n",
    "\n",
    "# Resolution\n",
    "sol = facile.solve([a, b, c, d], backtrack=True)\n",
    "print(\"Solution found: a={}, b={}, c={}, d={}\".format(*sol.solution))"
   ]
  },
  {
   "cell_type": "markdown",
   "metadata": {},
   "source": [
    "<div class=\"alert alert-info\">\n",
    "**Let's look further into this!** (out of scope)<br />\n",
    "\n",
    "Let's check how many backtracks occur during the resolution process,  \n",
    "and have a look at the constraint propagation effect on the domain of each variable.\n",
    "</div>"
   ]
  },
  {
   "cell_type": "markdown",
   "metadata": {},
   "source": [
    "<div class=\"alert alert-warning\">\n",
    "<b>Problem #3: (easy)</b><br />\n",
    "Solve SEND + MORE = MONEY (two methods). Pretty-print the result.\n",
    "</div>\n",
    "\n",
    "You may need to use the following constraint:\n",
    "```python\n",
    "c1 = facile.alldifferent([a, b, c, ...])\n",
    "# to be posted to the solver\n",
    "facile.constraint(c1)\n",
    "```\n"
   ]
  },
  {
   "cell_type": "code",
   "execution_count": null,
   "metadata": {
    "collapsed": true
   },
   "outputs": [],
   "source": []
  },
  {
   "cell_type": "markdown",
   "metadata": {},
   "source": [
    "<div class=\"alert alert-danger\">\n",
    "**Important note**: Even though it is not explicitly mentioned in the problem, **do not** forget to add the $s>0$ and $m>0$ constraints.\n",
    "</div>\n",
    "\n",
    "Look by yourself how the solution makes no sense:"
   ]
  },
  {
   "cell_type": "markdown",
   "metadata": {},
   "source": [
    "## Petersen's graph\n",
    "\n",
    "> Let's play with graphical possibilities of Python!\n",
    "\n",
    "This graph is a particular graph with 10 nodes and 15 edges.  \n",
    "We want to find a colouring of this graph, i.e. colour the nodes so that no two neighbouring nodes have the same colour.\n",
    "\n",
    "<div class=\"alert alert-danger\">\n",
    "**Important note**: You do not need to worry about the coordinates of each point are they are no decision variables (they just help to plot). However, you should have a look at each `plt.plot` command in `plot_edges` as they are related to a constraint you have to write.\n",
    "</div>\n",
    "<div class=\"alert alert-danger\">\n",
    "**Really important note**: Take some time on paper first to think about what to choose as **decision variables**.\n",
    "</div>"
   ]
  },
  {
   "cell_type": "code",
   "execution_count": 6,
   "metadata": {},
   "outputs": [
    {
     "name": "stderr",
     "output_type": "stream",
     "text": [
      "\n",
      "Bad key text.latex.unicode in file /Users/hudelotc/opt/miniconda3/lib/python3.8/site-packages/matplotlib/mpl-data/stylelib/_classic_test.mplstyle, line 112 ('text.latex.unicode : False # use \"ucs\" and \"inputenc\" LaTeX packages for handling')\n",
      "You probably need to get an updated matplotlibrc file from\n",
      "https://github.com/matplotlib/matplotlib/blob/v3.4.3/matplotlibrc.template\n",
      "or from the matplotlib source distribution\n",
      "\n",
      "Bad key savefig.frameon in file /Users/hudelotc/opt/miniconda3/lib/python3.8/site-packages/matplotlib/mpl-data/stylelib/_classic_test.mplstyle, line 423 ('savefig.frameon : True')\n",
      "You probably need to get an updated matplotlibrc file from\n",
      "https://github.com/matplotlib/matplotlib/blob/v3.4.3/matplotlibrc.template\n",
      "or from the matplotlib source distribution\n",
      "\n",
      "Bad key pgf.debug in file /Users/hudelotc/opt/miniconda3/lib/python3.8/site-packages/matplotlib/mpl-data/stylelib/_classic_test.mplstyle, line 444 ('pgf.debug           : False')\n",
      "You probably need to get an updated matplotlibrc file from\n",
      "https://github.com/matplotlib/matplotlib/blob/v3.4.3/matplotlibrc.template\n",
      "or from the matplotlib source distribution\n",
      "\n",
      "Bad key verbose.level in file /Users/hudelotc/opt/miniconda3/lib/python3.8/site-packages/matplotlib/mpl-data/stylelib/_classic_test.mplstyle, line 475 ('verbose.level  : silent      # one of silent, helpful, debug, debug-annoying')\n",
      "You probably need to get an updated matplotlibrc file from\n",
      "https://github.com/matplotlib/matplotlib/blob/v3.4.3/matplotlibrc.template\n",
      "or from the matplotlib source distribution\n",
      "\n",
      "Bad key verbose.fileo in file /Users/hudelotc/opt/miniconda3/lib/python3.8/site-packages/matplotlib/mpl-data/stylelib/_classic_test.mplstyle, line 476 ('verbose.fileo  : sys.stdout  # a log filename, sys.stdout or sys.stderr')\n",
      "You probably need to get an updated matplotlibrc file from\n",
      "https://github.com/matplotlib/matplotlib/blob/v3.4.3/matplotlibrc.template\n",
      "or from the matplotlib source distribution\n",
      "In /Users/hudelotc/opt/miniconda3/lib/python3.8/site-packages/matplotlib/mpl-data/stylelib/_classic_test.mplstyle: \n",
      "The text.latex.preview rcparam was deprecated in Matplotlib 3.3 and will be removed two minor releases later.\n",
      "In /Users/hudelotc/opt/miniconda3/lib/python3.8/site-packages/matplotlib/mpl-data/stylelib/_classic_test.mplstyle: \n",
      "The mathtext.fallback_to_cm rcparam was deprecated in Matplotlib 3.3 and will be removed two minor releases later.\n",
      "In /Users/hudelotc/opt/miniconda3/lib/python3.8/site-packages/matplotlib/mpl-data/stylelib/_classic_test.mplstyle: Support for setting the 'mathtext.fallback_to_cm' rcParam is deprecated since 3.3 and will be removed two minor releases later; use 'mathtext.fallback : 'cm' instead.\n",
      "In /Users/hudelotc/opt/miniconda3/lib/python3.8/site-packages/matplotlib/mpl-data/stylelib/_classic_test.mplstyle: \n",
      "The validate_bool_maybe_none function was deprecated in Matplotlib 3.3 and will be removed two minor releases later.\n",
      "In /Users/hudelotc/opt/miniconda3/lib/python3.8/site-packages/matplotlib/mpl-data/stylelib/_classic_test.mplstyle: \n",
      "The savefig.jpeg_quality rcparam was deprecated in Matplotlib 3.3 and will be removed two minor releases later.\n",
      "In /Users/hudelotc/opt/miniconda3/lib/python3.8/site-packages/matplotlib/mpl-data/stylelib/_classic_test.mplstyle: \n",
      "The keymap.all_axes rcparam was deprecated in Matplotlib 3.3 and will be removed two minor releases later.\n",
      "In /Users/hudelotc/opt/miniconda3/lib/python3.8/site-packages/matplotlib/mpl-data/stylelib/_classic_test.mplstyle: \n",
      "The animation.avconv_path rcparam was deprecated in Matplotlib 3.3 and will be removed two minor releases later.\n",
      "In /Users/hudelotc/opt/miniconda3/lib/python3.8/site-packages/matplotlib/mpl-data/stylelib/_classic_test.mplstyle: \n",
      "The animation.avconv_args rcparam was deprecated in Matplotlib 3.3 and will be removed two minor releases later.\n"
     ]
    },
    {
     "data": {
      "image/png": "[encoded data removed]",
      "text/plain": [
       "<Figure size 432x288 with 1 Axes>"
      ]
     },
     "metadata": {
      "needs_background": "light"
     },
     "output_type": "display_data"
    }
   ],
   "source": [
    "from math import pi, cos, sin\n",
    "import matplotlib.pyplot as plt\n",
    "\n",
    "# Five angles π/2 + i * 72°\n",
    "angles = [i * 2 * pi / 5 + pi / 2 for i in range(5)]\n",
    "\n",
    "# The five nodes in the inner circle\n",
    "points = [(cos(t), sin(t)) for t in angles]\n",
    "# The five nodes in the outer circle\n",
    "points += [(2 * cos(t), 2 * sin(t)) for t in angles]\n",
    "\n",
    "# Shortcut for the x-y coordinates of each node\n",
    "x = [x for x, _ in points]\n",
    "y = [y for _, y in points]\n",
    "\n",
    "\n",
    "def plot_edges():\n",
    "    \"\"\"Plot the graph without colouring the nodes.\"\"\"\n",
    "    plt.axes(frameon=False, aspect=1)\n",
    "    plt.xlim(-2.5, 2.5)\n",
    "    plt.ylim(-2.5, 2.5)\n",
    "\n",
    "    # Build edges between the five nodes in the inner circle\n",
    "    for i in range(5):\n",
    "        j, j_ = i, (i + 2) % 5  # % (modulo -> j=4, j_=0)\n",
    "        plt.plot([x[j], x[j_]], [y[j], y[j_]], color=\"grey\")\n",
    "\n",
    "    # Build edges between the inner and the outer circle\n",
    "    for i in range(5):\n",
    "        plt.plot([x[i], x[i + 5]], [y[i], y[i + 5]], color=\"grey\")\n",
    "\n",
    "    # Build edges between the five nodes on the outer circle\n",
    "    for i in range(5):\n",
    "        j, j_ = 5 + i, 5 + (i + 1) % 5  # % (modulo -> j=9, j_=5)\n",
    "        plt.plot([x[j], x[j_]], [y[j], y[j_]], color=\"grey\")\n",
    "\n",
    "\n",
    "plot_edges()\n",
    "\n",
    "# Colouring nodes\n",
    "for i, (x_, y_) in enumerate(points):\n",
    "    plt.plot(x_, y_, \"ro\")  # 'r' pour red, 'o' pour la forme du point"
   ]
  },
  {
   "cell_type": "markdown",
   "metadata": {},
   "source": [
    "<div class=\"alert alert-warning\">\n",
    "<b>Problem #4: (easy)</b><br />\n",
    "How many colours do you need to colour Petersen's graph? Print the coloured graph.\n",
    "</div>"
   ]
  },
  {
   "cell_type": "code",
   "execution_count": null,
   "metadata": {
    "collapsed": true
   },
   "outputs": [],
   "source": []
  },
  {
   "cell_type": "code",
   "execution_count": null,
   "metadata": {
    "collapsed": true,
    "scrolled": true
   },
   "outputs": [],
   "source": []
  },
  {
   "cell_type": "markdown",
   "metadata": {},
   "source": [
    "<div class=\"alert alert-danger\"><a href=\"#peterson-more\" data-toggle=\"collapse\">**Important note (click to unfold):**</a><br/>\n",
    "<div id=\"peterson-more\" class=\"collapse\">\n",
    "The real question to answer is \"how many colours do you need?\". You may feel the urge to model the problem with a variable representing the number of colours. But take a step back, and think differently: try to solve the problem with 1 colour, then 2 colours and you find no solution. If you try 3 colours you find a solution, so 3 is the answer you want.\n",
    "</div>\n",
    "</div>"
   ]
  },
  {
   "cell_type": "markdown",
   "metadata": {},
   "source": [
    "## The $n$-queen problem"
   ]
  },
  {
   "cell_type": "markdown",
   "metadata": {},
   "source": [
    "<div class=\"alert alert-warning\">\n",
    "<b>Problem #5: (intermediate)</b><br />\n",
    "Solve the 8-queen problem and pretty-print the solution. You may generalise your procedure for $n$ queens.\n",
    "</div>\n"
   ]
  },
  {
   "cell_type": "code",
   "execution_count": null,
   "metadata": {
    "collapsed": true
   },
   "outputs": [],
   "source": []
  },
  {
   "cell_type": "code",
   "execution_count": null,
   "metadata": {
    "collapsed": true
   },
   "outputs": [],
   "source": []
  },
  {
   "cell_type": "markdown",
   "metadata": {},
   "source": [
    "<div class=\"alert alert-danger\"><a href=\"#alldifferent-more\" data-toggle=\"collapse\">**Important note (click to unfold):**</a><br/>\n",
    "<div id=\"alldifferent-more\" class=\"collapse\">\n",
    "The use of the *alldifferent* constraint is fundamental. You may think it is easier to write all the $\\neq$-constraints, but look by yourself:\n",
    "</div>\n",
    "</div>"
   ]
  },
  {
   "cell_type": "code",
   "execution_count": null,
   "metadata": {
    "collapsed": true
   },
   "outputs": [],
   "source": [
    "\n"
   ]
  },
  {
   "cell_type": "code",
   "execution_count": null,
   "metadata": {
    "collapsed": true,
    "scrolled": false
   },
   "outputs": [],
   "source": []
  },
  {
   "cell_type": "code",
   "execution_count": null,
   "metadata": {
    "collapsed": true,
    "scrolled": false
   },
   "outputs": [],
   "source": []
  },
  {
   "cell_type": "markdown",
   "metadata": {},
   "source": [
    "<div class=\"alert alert-info\">\n",
    "**Let's look further into this!** (out of scope)<br />\n",
    "\n",
    "The heuristics on the choice of the next variable have a significant impact on the number of backtracks.\n",
    "</div>\n",
    "\n",
    "By default, we choose the queens in order:\n",
    "- `min_domain` chooses the next variable as the one with the smallest domain after propagation;\n",
    "- `min_min` chooses the next variable as the one with the smallest smallest value in its domain after propagation;\n",
    "- `queen` is the optimal strategy for the n-queen problem and combines the two previous strategies."
   ]
  },
  {
   "cell_type": "code",
   "execution_count": null,
   "metadata": {
    "collapsed": true
   },
   "outputs": [],
   "source": [
    "def queen_strategy(queens):\n",
    "    if len([q.value() for q in queens if q.value() is None]) == 0:\n",
    "        return -1\n",
    "    else:\n",
    "        min_ = min(\n",
    "            (len(q.domain()), q.min(), i)\n",
    "            for i, q in enumerate(queens)\n",
    "            if q.value() is None\n",
    "        )\n",
    "        return min_[2]"
   ]
  },
  {
   "cell_type": "code",
   "execution_count": null,
   "metadata": {
    "collapsed": true,
    "scrolled": false
   },
   "outputs": [],
   "source": [
    "print(n_queens(10, backtrack=True))\n",
    "print(n_queens(10, strategy=\"min_domain\", backtrack=True))\n",
    "print(n_queens(10, strategy=\"min_min\", backtrack=True))\n",
    "print(n_queens(10, strategy=queen_strategy, backtrack=True))"
   ]
  },
  {
   "cell_type": "code",
   "execution_count": null,
   "metadata": {
    "collapsed": true
   },
   "outputs": [],
   "source": [
    "fig = plt.figure()\n",
    "fig.set_size_inches(8, 5.6)\n",
    "\n",
    "interval = range(2, 20)\n",
    "plt.plot(interval, [(n_queens(i, backtrack=True).backtrack) for i in interval])\n",
    "plt.plot(\n",
    "    interval,\n",
    "    [(n_queens(i, strategy=\"min_domain\", backtrack=True).backtrack) for i in interval],\n",
    ")\n",
    "plt.plot(\n",
    "    interval,\n",
    "    [\n",
    "        (n_queens(i, strategy=queen_strategy, backtrack=True).backtrack)\n",
    "        for i in interval\n",
    "    ],\n",
    "    lw=2,\n",
    ")\n",
    "\n",
    "\n",
    "plt.axis((interval.start, interval.stop, 0, 70))\n",
    "plt.legend([\"regular\", \"min_domain\", \"queen\"])"
   ]
  },
  {
   "cell_type": "code",
   "execution_count": null,
   "metadata": {
    "collapsed": true
   },
   "outputs": [],
   "source": [
    "print(n_queens(1001, strategy=\"queen\", backtrack=True))"
   ]
  },
  {
   "cell_type": "markdown",
   "metadata": {},
   "source": [
    "### Optimisation\n",
    "\n",
    "`facile.solve` solves constraint satisfaction problem. You may solve optimisation problems with `facile.minimize`."
   ]
  },
  {
   "cell_type": "markdown",
   "metadata": {},
   "source": [
    "<div class=\"alert alert-success\">\n",
    "**Example :**\n",
    "Find $x,y \\in [0,3]$, constrained by $x \\neq y$ and so that $x + y$ is maximum.\n",
    "</div>"
   ]
  },
  {
   "cell_type": "code",
   "execution_count": null,
   "metadata": {
    "collapsed": true
   },
   "outputs": [],
   "source": [
    "x, y = [facile.variable(range(5)) for i in range(2)]\n",
    "\n",
    "facile.constraint(x != y)\n",
    "\n",
    "# The second parameter represents the expression to minimize.\n",
    "sol = facile.minimize([x, y], y)\n",
    "print(sol)"
   ]
  },
  {
   "cell_type": "code",
   "execution_count": null,
   "metadata": {
    "collapsed": true
   },
   "outputs": [],
   "source": [
    "# You may have access to different parameters in the solution\n",
    "print(sol.keys())\n",
    "\n",
    "# The most useful are probably the two following ones\n",
    "sol.evaluation, sol.solution"
   ]
  },
  {
   "cell_type": "markdown",
   "metadata": {},
   "source": [
    "<div class=\"alert alert-warning\">\n",
    "**Problem #6: (intermediate)**<br />\n",
    " A Golomb ruler is a set of integers (marks) $a_1 < \\cdots a_k$ such that all the differences $a_i - a_j$ (assuming $i > j$) are distinct.  <br />\n",
    " Clearly we may assume $a_1 = 0$.  Then $a_k$ is the length of the Golomb ruler. <br />\n",
    " For a given number of marks $n$, we want to find the shortest Golomb rulers.\n",
    "</div>\n",
    "\n",
    "*Note:* Above $n = 10$ the resolution time may be too long."
   ]
  },
  {
   "cell_type": "code",
   "execution_count": null,
   "metadata": {
    "collapsed": true
   },
   "outputs": [],
   "source": []
  },
  {
   "cell_type": "code",
   "execution_count": null,
   "metadata": {
    "collapsed": true
   },
   "outputs": [],
   "source": []
  },
  {
   "cell_type": "markdown",
   "metadata": {},
   "source": [
    "<div class=\"alert alert-danger\"><a href=\"#golomb-more\" data-toggle=\"collapse\">**Important note (click to unfold):**</a></div>\n",
    "<div id=\"golomb-more\" class=\"collapse\">\n",
    "<div class=\"alert alert-danger\">\n",
    "Note how you may build a list of expressions $t_i-t_j$ and pass it to *alldifferent*.\n",
    "</div>\n",
    "\n",
    "You may also wonder why the correction mentions a domain of variables between 0 and $2^n$.\n",
    "Consider the assignment `ticks[i] = 2**i` and see how it is a solution to our satisfaction problem. See how you write $2^i - 2^j$ in binary to convince yourself. Then our problem consists of finding the shortest Golomb rule, that is shorter than $2^n$.\n",
    "\n",
    "Obviously, you are not expected to find this trick by yourself. Initialising the domain to some *reasonably* big range is enough to solve small instances of the problem.\n",
    "\n",
    "<div class=\"alert alert-info\" style=\"margin-top: 1em\">\n",
    "**Branch & Bound**: Note how many more backtracks you need to confirm that your better evaluation is the optimal one.\n",
    "</div>\n",
    "</div>"
   ]
  },
  {
   "cell_type": "markdown",
   "metadata": {},
   "source": [
    "<div class=\"alert alert-warning\">\n",
    "<b>Problem #7: (difficult)</b><br />\n",
    "You are given an 8 pint bucket of water, and two empty buckets which can contain 5 and 3 pints respectively. You are required to divide the water into two by pouring water between buckets (that is, to end up with 4 pints in the 8 pint bucket, and 4 pints in the 5 pint bucket).<br /><br />\n",
    "\n",
    "What is the minimum number of transfers of water between buckets?\n",
    "</div>"
   ]
  },
  {
   "cell_type": "markdown",
   "metadata": {},
   "source": [
    "<div class=\"alert alert-danger\"><a href=\"#buckets-more\" data-toggle=\"collapse\">**Solution for the modelling part (click to unfold)**:</a></div>\n",
    "<div id=\"buckets-more\" class=\"collapse\">\n",
    "<div class=\"alert alert-danger\">\n",
    "The difficult part here is to get what will be the variables we manipulate. We do not know in advance the number of steps. **The number of steps determines the number of variables, so we cannot make it a variable**: we make it a **constant parameter** that we grow until we find a solution.\n",
    "</div>\n",
    "\n",
    "\n",
    "So we have the following table of variables, with the first constraints set:\n",
    "\n",
    "|       | $s_3$ | $s_5$ | $s_8$ |\n",
    "|-------|-------|-------|-------|\n",
    "| $t_1$ | 0     | 0     | 8     |\n",
    "| $t_2$ | ...   | ...   | ...   |\n",
    "| $t_3$ | ...   | ...   | ...   |\n",
    "| ...   | ...   | ...   | ...   |\n",
    "| ...   | ...   | ...   | ...   |\n",
    "| $t_n$ | 0     | 4     | 4     |\n",
    "\n",
    "\n",
    "Then the constraints that we have to program:\n",
    "\n",
    "- Between two consecutive steps, *exactly two buckets* see their water amount change;\n",
    "- At each step, the total volume of water is constant;\n",
    "- Between two consecutive steps, for all pairs of buckets:\n",
    "    - *either* one of the buckets keeps the same amount of water;\n",
    "    - *or*, one of the two buckets ends up full;\n",
    "    - *or*, one of the two buckets ends up empty.\n",
    "    \n",
    "<div class=\"alert alert-danger\" style=\"margin-top: 1em\">\n",
    "**Important note**: Writing *exactly two buckets see their water amount change* is a bit tricky.<br/>\n",
    "</div> \n",
    "\n",
    "You cannot have it with a simple disjunction of constraint (the Python operator `|` which stands for **or**).\n",
    "\n",
    "You would probably end up saying \"the first bucket stays untouched\" **or** \"the second bucket stays untouched\" **or** \"the third bucket stays untouched\" which does not capture the idea that if one bucket stays untouched, there is a movement of water between the others.\n",
    "\n",
    "The key here is to use a mechanism called *constraint reification*, that is we (automatically) associate a binary variable to a constraint, taking the value 0 if the constraint is violated in the current assignment and 1 if the constraint is true.\n",
    "\n",
    "So when we write :\n",
    "```python\n",
    "    facile.constraint(sum([e[t][i] != e[t+1][i] for i in something]) == 2)\n",
    "```\n",
    "\n",
    "that is, $$\\sum \\left(e_{t,i} \\neq e_{t+1, i} \\right) = 2$$\n",
    "we mean:\n",
    "\n",
    "- that **exactly** `2` \"$\\neq$\" constraints in the included list are verified,\n",
    "- **and** that **exactly** `(len(something) - 2)` \"$\\neq$\" constraints in the included list are violated."
   ]
  },
  {
   "cell_type": "code",
   "execution_count": null,
   "metadata": {
    "collapsed": true
   },
   "outputs": [],
   "source": []
  },
  {
   "cell_type": "code",
   "execution_count": null,
   "metadata": {
    "collapsed": true
   },
   "outputs": [],
   "source": []
  }
 ],
 "metadata": {
  "interpreter": {
   "hash": "5b8d93d039eb34368691845327e1c139502ac636a1313bda6312b524ecb796dc"
  },
  "kernelspec": {
   "display_name": "Python 3",
   "language": "python",
   "name": "python3"
  },
  "language_info": {
   "codemirror_mode": {
    "name": "ipython",
    "version": 3
   },
   "file_extension": ".py",
   "mimetype": "text/x-python",
   "name": "python",
   "nbconvert_exporter": "python",
   "pygments_lexer": "ipython3",
   "version": "3.8.3"
  }
 },
 "nbformat": 4,
 "nbformat_minor": 1
}
