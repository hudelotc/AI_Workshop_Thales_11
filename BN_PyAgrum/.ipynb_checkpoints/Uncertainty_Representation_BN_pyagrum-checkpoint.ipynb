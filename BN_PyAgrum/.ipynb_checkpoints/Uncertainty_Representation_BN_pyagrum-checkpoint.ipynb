{
 "cells": [
  {
   "cell_type": "markdown",
   "id": "2e125530",
   "metadata": {},
   "source": [
    "<center><img src='https://drive.google.com/uc?export=view&id=1qJ8NqAZolTBQY7lN-deZ8xEsU3dlUiLz' width=200></center>\n",
    "\n",
    "\n",
    "\n",
    "<h6><center></center></h6>\n",
    "\n",
    "<h1>\n",
    "<hr style=\" border:none; height:3px;\">\n",
    "<center>Uncertainty Representation with Bayesian Network</center>\n",
    "    <center> Introduction to pyagrum </center>\n",
    "<hr style=\" border:none; height:3px;\">\n",
    "</h1>\n",
    "\n",
    "This laboratory is from the [official pyagrum tutorial](http://www-desir.lip6.fr/~phw/aGrUM/docs/last/notebooks/Tutorial.ipynb.html)"
   ]
  },
  {
   "cell_type": "markdown",
   "id": "07d2bbf3",
   "metadata": {},
   "source": [
    "# Installation and importation"
   ]
  },
  {
   "cell_type": "code",
   "execution_count": null,
   "id": "5b1aae6b",
   "metadata": {},
   "outputs": [],
   "source": [
    "!pip install pyagrum"
   ]
  },
  {
   "cell_type": "code",
   "execution_count": null,
   "id": "2bda27fb",
   "metadata": {},
   "outputs": [],
   "source": [
    "from pylab import *\n",
    "import matplotlib.pyplot as plt\n",
    "import os\n"
   ]
  },
  {
   "cell_type": "markdown",
   "id": "fa3d2981",
   "metadata": {},
   "source": [
    "# Creating your first Bayesian network with pyAgrum"
   ]
  },
  {
   "cell_type": "markdown",
   "id": "525e6926",
   "metadata": {},
   "source": [
    "<p>A <b>Bayesian network</b> (BN) is composed of <b>random variables</b> (nodes) and their conditional dependencies (arcs) which, together, form a directed acyclic graph (DAG). A <b>conditional probability table</b> (CPT) is associated with each node. It contains the conditional probability distribution of the node given its parents in the DAG:\n",
    "<center><img src=\"./images/waterprinkler.png\"></center>\n",
    "Such a BN allows to manipulate the joint probability $P(C,S,R,W)$&nbsp;&nbsp;&nbsp;using this decomposition :\n",
    "<center>\n",
    "    $P(C,S,R,W)=\\prod_X P(X | Parents_X) = P(C) \\cdot P(S | C) \\cdot P(R | C) \\cdot P(W | S,R)$\n",
    "</center>\n",
    "</p>\n",
    "<p>\n",
    "   We will see how to create this first Bayesian network, the 'Water Sprinkler' network with the pyagrum library. This is an easy example. All the nodes are Boolean (only 2 possible values). You can proceed as follows.\n",
    "</p>"
   ]
  },
  {
   "cell_type": "markdown",
   "id": "9c341f10",
   "metadata": {},
   "source": [
    "## Import the pyAgrum package"
   ]
  },
  {
   "cell_type": "code",
   "execution_count": null,
   "id": "975f0f1f",
   "metadata": {},
   "outputs": [],
   "source": [
    "import pyAgrum as gum"
   ]
  },
  {
   "cell_type": "markdown",
   "id": "099c69ae",
   "metadata": {},
   "source": [
    "## Create the network topology\n",
    "### Create the BN\n",
    "The next line creates an empty BN network with a 'name' property."
   ]
  },
  {
   "cell_type": "code",
   "execution_count": null,
   "id": "ff5553ce",
   "metadata": {},
   "outputs": [],
   "source": [
    "bn=gum.BayesNet('WaterSprinkler')\n",
    "print(bn)"
   ]
  },
  {
   "cell_type": "markdown",
   "id": "f1130b8f",
   "metadata": {},
   "source": [
    "### Create the variables\n",
    "pyAgrum(aGrUM) provides 3 types of variables :\n",
    "<ul>\n",
    "    <li>LabelizedVariable</li>\n",
    "    <li>RangeVariable</li>\n",
    "    <li>DiscretizedVariable</li>\n",
    "</ul>\n",
    "In this tutorial, we will use LabelizedVariable, which is a variable whose domain is a finite set of labels. The next line will create a variable named 'c', with 2 values and described as 'cloudy?', and it will add it to the BN. The value returned is the id of the node in the graphical structure (the DAG). pyAgrum actually distinguishes the random variable (here the labelizedVariable) from its node in the DAG: the latter is identified through a numeric id. Of course, pyAgrum provides functions to get the id of a node given the corresponding variable and conversely."
   ]
  },
  {
   "cell_type": "code",
   "execution_count": null,
   "id": "92610baf",
   "metadata": {},
   "outputs": [],
   "source": [
    "c=bn.add(gum.LabelizedVariable('c','cloudy ?',2))\n",
    "print(c)"
   ]
  },
  {
   "cell_type": "markdown",
   "id": "7bb7af78",
   "metadata": {},
   "source": [
    "You can go on adding nodes in the network this way. Add the other variables 's', 'w' and 'r' in the network"
   ]
  },
  {
   "cell_type": "code",
   "execution_count": null,
   "id": "508af85f",
   "metadata": {},
   "outputs": [],
   "source": [
    "# TO DO\n",
    "\n"
   ]
  },
  {
   "cell_type": "code",
   "execution_count": null,
   "id": "0228e0bd",
   "metadata": {},
   "outputs": [],
   "source": [
    "\n",
    "print (s,r,w)\n",
    "print (bn)"
   ]
  },
  {
   "cell_type": "markdown",
   "id": "bd344c08",
   "metadata": {},
   "source": [
    "### Create the arcs\n",
    "Now we have to connect nodes, i.e., to add arcs linking the nodes. Remember that <tt>c</tt> and <tt>s</tt> are ids for nodes:"
   ]
  },
  {
   "cell_type": "code",
   "execution_count": null,
   "id": "20b3920b",
   "metadata": {},
   "outputs": [],
   "source": [
    "bn.addArc(c,s)"
   ]
  },
  {
   "cell_type": "markdown",
   "id": "2bed8b60",
   "metadata": {},
   "source": [
    "Add the diffent arcs of the 'Water Sprinkler' network "
   ]
  },
  {
   "cell_type": "code",
   "execution_count": null,
   "id": "6b573e8c",
   "metadata": {},
   "outputs": [],
   "source": [
    "# TO DO\n"
   ]
  },
  {
   "cell_type": "markdown",
   "id": "705b4d79",
   "metadata": {},
   "source": [
    "pyAgrum provides tools to display <tt>bn</tt> in more user-frendly fashions. <br/>Notably, <tt>pyAgrum.lib</tt> is a set of tools written in pyAgrum to help using aGrUM in python. <tt>pyAgrum.lib.notebook</tt> adds dedicated functions for iPython notebook."
   ]
  },
  {
   "cell_type": "code",
   "execution_count": null,
   "id": "f236e161",
   "metadata": {},
   "outputs": [],
   "source": [
    "import pyAgrum.lib.notebook as gnb\n",
    "bn"
   ]
  },
  {
   "cell_type": "markdown",
   "id": "87b713b4",
   "metadata": {},
   "source": [
    "### Shorcuts with fastBN\n",
    "\n",
    "The functions `fast[model]` encode the structure of the graphical model and the type of the variables in a concise language somehow derived from the `dot` language for graphs (see the doc for the underlying method : [fastPrototype](https://pyagrum.readthedocs.io/en/latest/BNModel.html?highlight=fastPrototype#pyAgrum.BayesNet.fastPrototype))."
   ]
  },
  {
   "cell_type": "code",
   "execution_count": null,
   "id": "fb19216d",
   "metadata": {},
   "outputs": [],
   "source": [
    "bn=gum.fastBN(\"c->r->w<-s<-c\")\n",
    "bn"
   ]
  },
  {
   "cell_type": "markdown",
   "id": "4a184f27",
   "metadata": {},
   "source": [
    "### Create the probability tables\n",
    "Once the network topology is constructed, we must initialize the conditional probability tables (CPT) distributions.\n",
    "Each CPT is considered as a Potential object in pyAgrum. There are several ways to fill such an object.<br/>\n",
    "\n",
    "To get the CPT of a variable, use the cpt method of your BayesNet instance with the variable's id as parameter.<br/>\n",
    "\n",
    "Now we are ready to fill in the parameters of each node in our network. There are several ways to add these parameters.<br/>"
   ]
  },
  {
   "cell_type": "markdown",
   "id": "6c54dade",
   "metadata": {},
   "source": [
    "#### Low-level way"
   ]
  },
  {
   "cell_type": "code",
   "execution_count": null,
   "id": "3a7da2fa",
   "metadata": {},
   "outputs": [],
   "source": [
    "bn.cpt(c).fillWith([0.4,0.6]) # remember : c=0"
   ]
  },
  {
   "cell_type": "markdown",
   "id": "02ee680b",
   "metadata": {},
   "source": [
    "Most of the methods using a node id will also work with name of the random variable."
   ]
  },
  {
   "cell_type": "code",
   "execution_count": null,
   "id": "3c634931",
   "metadata": {},
   "outputs": [],
   "source": [
    "bn.cpt(\"c\").fillWith([0.5,0.5])"
   ]
  },
  {
   "cell_type": "markdown",
   "id": "921823ad",
   "metadata": {},
   "source": [
    "#### Using the order of variables"
   ]
  },
  {
   "cell_type": "code",
   "execution_count": null,
   "id": "880875e0",
   "metadata": {},
   "outputs": [],
   "source": [
    "bn.cpt(\"s\").var_names"
   ]
  },
  {
   "cell_type": "code",
   "execution_count": null,
   "id": "ba7179f8",
   "metadata": {},
   "outputs": [],
   "source": [
    "bn.cpt(\"s\")[:]=[ [0.5,0.5],[0.9,0.1]]"
   ]
  },
  {
   "cell_type": "markdown",
   "id": "111163f6",
   "metadata": {},
   "source": [
    "Then $P(S | C=0)=[0.5,0.5]$ <br/>and $P(S | C=1)=[0.9,0.1]$."
   ]
  },
  {
   "cell_type": "code",
   "execution_count": null,
   "id": "b31e5047",
   "metadata": {},
   "outputs": [],
   "source": [
    "print(bn.cpt(\"s\")[1])"
   ]
  },
  {
   "cell_type": "markdown",
   "id": "7f0576a2",
   "metadata": {},
   "source": [
    "The same process can be performed in several steps:"
   ]
  },
  {
   "cell_type": "code",
   "execution_count": null,
   "id": "3a5dd2f3",
   "metadata": {},
   "outputs": [],
   "source": [
    "bn.cpt(\"s\")[0,:]=0.5 # equivalent to [0.5,0.5]\n",
    "bn.cpt(\"s\")[1,:]=[0.9,0.1]"
   ]
  },
  {
   "cell_type": "code",
   "execution_count": null,
   "id": "840dbd00",
   "metadata": {},
   "outputs": [],
   "source": [
    "print(bn.cpt(\"w\").var_names)\n",
    "bn.cpt(\"w\")"
   ]
  },
  {
   "cell_type": "code",
   "execution_count": null,
   "id": "49dadda4",
   "metadata": {},
   "outputs": [],
   "source": [
    "bn.cpt(\"w\")[0,0,:] = [1, 0] # r=0,s=0\n",
    "bn.cpt(\"w\")[0,1,:] = [0.1, 0.9] # r=0,s=1\n",
    "bn.cpt(\"w\")[1,0,:] = [0.1, 0.9] # r=1,s=0\n",
    "bn.cpt(\"w\")[1,1,:] = [0.01, 0.99] # r=1,s=1"
   ]
  },
  {
   "cell_type": "markdown",
   "id": "5afe4c2a",
   "metadata": {},
   "source": [
    "#### Using a dictionnary\n",
    "This is probably the most convenient way:"
   ]
  },
  {
   "cell_type": "code",
   "execution_count": null,
   "id": "e6d14f33",
   "metadata": {},
   "outputs": [],
   "source": [
    "bn.cpt(\"w\")[{'r': 0, 's': 0}] = [1, 0]\n",
    "bn.cpt(\"w\")[{'r': 0, 's': 1}] = [0.1, 0.9]\n",
    "bn.cpt(\"w\")[{'r': 1, 's': 0}] = [0.1, 0.9]\n",
    "bn.cpt(\"w\")[{'r': 1, 's': 1}] = [0.01, 0.99]\n",
    "bn.cpt(\"w\")"
   ]
  },
  {
   "cell_type": "markdown",
   "id": "d0d817fb",
   "metadata": {},
   "source": [
    "Using your prefered approach, initialize the conditional probability tables (CPT) distributions of the 'Water Sprinkler' network "
   ]
  },
  {
   "cell_type": "code",
   "execution_count": null,
   "id": "9b506354",
   "metadata": {},
   "outputs": [],
   "source": [
    "# TO DO\n",
    "bn.cpt(\"r\")[{'c':0}]=[0.8,0.2]\n",
    "bn.cpt(\"r\")[{'c':1}]=[0.2,0.8]"
   ]
  },
  {
   "cell_type": "markdown",
   "id": "afef7f4a",
   "metadata": {},
   "source": [
    "## Input/output"
   ]
  },
  {
   "cell_type": "markdown",
   "id": "596a10b2",
   "metadata": {},
   "source": [
    "Now our BN is complete. It can be saved in different format :"
   ]
  },
  {
   "cell_type": "code",
   "execution_count": null,
   "id": "6ed5274b",
   "metadata": {},
   "outputs": [],
   "source": [
    "print(gum.availableBNExts())"
   ]
  },
  {
   "cell_type": "markdown",
   "id": "1ec0a31a",
   "metadata": {},
   "source": [
    "We can save a BN using BIF format"
   ]
  },
  {
   "cell_type": "code",
   "execution_count": null,
   "id": "2ec4e287",
   "metadata": {},
   "outputs": [],
   "source": [
    "gum.saveBN(bn,\"WaterSprinkler.bif\")"
   ]
  },
  {
   "cell_type": "code",
   "execution_count": null,
   "id": "537df26a",
   "metadata": {},
   "outputs": [],
   "source": [
    "with open(\"WaterSprinkler.bif\",\"r\") as out:\n",
    "    print(out.read())"
   ]
  },
  {
   "cell_type": "code",
   "execution_count": null,
   "id": "137aa3fd",
   "metadata": {},
   "outputs": [],
   "source": [
    "bn2=gum.loadBN(\"WaterSprinkler.bif\")"
   ]
  },
  {
   "cell_type": "markdown",
   "id": "4b67e420",
   "metadata": {},
   "source": [
    "We can also save and load it in other formats"
   ]
  },
  {
   "cell_type": "code",
   "execution_count": null,
   "id": "7558605c",
   "metadata": {},
   "outputs": [],
   "source": [
    "gum.saveBN(bn,\"WaterSprinkler.net\")\n",
    "with open(\"WaterSprinkler.net\",\"r\") as out:\n",
    "    print(out.read())\n",
    "bn3=gum.loadBN(\"WaterSprinkler.net\")"
   ]
  },
  {
   "cell_type": "markdown",
   "id": "64d38b53",
   "metadata": {},
   "source": [
    "# Inference in Bayesian networks\n",
    "We have to choose an inference engine to perform calculations for us. Many inference engines are currently available in pyAgrum:\n",
    "<ul>\n",
    "    <li><b>exact inference</b>, particularly : \n",
    "        <ul>\n",
    "            <li> <tt>gum.LazyPropagation</tt> : an exact inference method that transforms the Bayesian network into a hypergraph called a join tree or a junction tree. This tree is constructed in order to optimize inference computations.</li>\n",
    "            <li> others: <tt>gum.VariableElimination</tt>, <tt>gum.ShaferShenoy</tt>, ...</li>\n",
    "        </ul>\n",
    "    <li><b>Samplig Inference</b> : approximate inference engine using sampling algorithms to generate a sequence of samples from the joint probability distribution (<tt>gum.GibbSSampling</tt>, etc.)</li>\n",
    "    <li><b>Loopy Belief Propagation</b> : approximate inference engine using inference algorithm exact for trees but not for DAG</li>\n",
    "</ul>\n",
    "        \n"
   ]
  },
  {
   "cell_type": "code",
   "execution_count": null,
   "id": "2a354de2",
   "metadata": {},
   "outputs": [],
   "source": [
    "ie=gum.LazyPropagation(bn)"
   ]
  },
  {
   "cell_type": "markdown",
   "id": "9d5e45d3",
   "metadata": {},
   "source": [
    "## Inference without evidence"
   ]
  },
  {
   "cell_type": "code",
   "execution_count": null,
   "id": "bd7dced3",
   "metadata": {},
   "outputs": [],
   "source": [
    "ie.makeInference()\n",
    "print (ie.posterior(\"w\"))"
   ]
  },
  {
   "cell_type": "code",
   "execution_count": null,
   "id": "f1270aef",
   "metadata": {},
   "outputs": [],
   "source": [
    "from IPython.core.display import HTML\n",
    "HTML(f\"In our BN, $P(W)=${ie.posterior('w')[:]}\")"
   ]
  },
  {
   "cell_type": "markdown",
   "id": "7742c1c5",
   "metadata": {},
   "source": [
    "With notebooks, it can be viewed as an HTML table"
   ]
  },
  {
   "cell_type": "code",
   "execution_count": null,
   "id": "3343f84c",
   "metadata": {},
   "outputs": [],
   "source": [
    "ie.posterior(\"w\")[:]"
   ]
  },
  {
   "cell_type": "markdown",
   "id": "9653f2b1",
   "metadata": {},
   "source": [
    "## Inference with evidence\n",
    "\n",
    "Suppose now that you know that the sprinkler is on and that it is not cloudy, and you wonder what Is the probability of the grass being wet, i.e., you are interested in distribution $P(W|S=1,C=0)$. <br/>The new knowledge you have (sprinkler is on and it is not cloudy) is called evidence. Evidence is entered using a dictionary. When you know precisely the value taken by a random variable, the evidence is called a hard evidence. This is the case, for instance, when I know for sure that the sprinkler is on. In this case, the knowledge is entered in the dictionary as 'variable name':label"
   ]
  },
  {
   "cell_type": "code",
   "execution_count": null,
   "id": "5b9a69c6",
   "metadata": {},
   "outputs": [],
   "source": [
    "ie.setEvidence({'s':0, 'c': 0})\n",
    "ie.makeInference()\n",
    "ie.posterior(\"w\")"
   ]
  },
  {
   "cell_type": "markdown",
   "id": "a7987dbe",
   "metadata": {},
   "source": [
    "When you have incomplete knowledge about the value of a random variable, this is called a soft evidence. In this case, this evidence is entered as the belief you have over the possible values that the random variable can take, in other words, as <em>P(evidence|true value of the variable)</em>. Imagine for instance that you think that if the sprinkler is off, you have only 50% chances of knowing it, but if it is on, you are sure to know it. Then, your belief about the state of the sprinkler is [0.5, 1] and you should enter this knowledge as shown below. Of course, hard evidence are special cases of soft evidence in which the beliefs over all the values of the random variable but one are equal to 0."
   ]
  },
  {
   "cell_type": "code",
   "execution_count": null,
   "id": "29a2741a",
   "metadata": {},
   "outputs": [],
   "source": [
    "ie.setEvidence({'s': [0.5, 1], 'c': [1, 0]})\n",
    "ie.makeInference()\n",
    "ie.posterior(\"w\") # using gnb's feature"
   ]
  },
  {
   "cell_type": "markdown",
   "id": "4b597680",
   "metadata": {},
   "source": [
    "the pyAgrum.lib.notebook utility proposes certain functions to graphically show distributions."
   ]
  },
  {
   "cell_type": "code",
   "execution_count": null,
   "id": "1a190a27",
   "metadata": {},
   "outputs": [],
   "source": [
    "gnb.showProba(ie.posterior(\"w\"))"
   ]
  },
  {
   "cell_type": "code",
   "execution_count": null,
   "id": "78fad918",
   "metadata": {},
   "outputs": [],
   "source": [
    "gnb.showPosterior(bn,{'s':1,'c':0},'w')"
   ]
  },
  {
   "cell_type": "markdown",
   "id": "f3fa58b8",
   "metadata": {},
   "source": [
    "## inference in the whole Bayes net"
   ]
  },
  {
   "cell_type": "code",
   "execution_count": null,
   "id": "7dc6fc5a",
   "metadata": {},
   "outputs": [],
   "source": [
    "gnb.showInference(bn,evs={})"
   ]
  },
  {
   "cell_type": "markdown",
   "id": "fdf1d65e",
   "metadata": {},
   "source": [
    "### inference with evidence"
   ]
  },
  {
   "cell_type": "code",
   "execution_count": null,
   "id": "369eb642",
   "metadata": {},
   "outputs": [],
   "source": [
    "gnb.showInference(bn,evs={'s':1,'c':0})"
   ]
  },
  {
   "cell_type": "markdown",
   "id": "45d2ef83",
   "metadata": {},
   "source": [
    "### inference with soft and hard evidence"
   ]
  },
  {
   "cell_type": "code",
   "execution_count": null,
   "id": "59afbc57",
   "metadata": {},
   "outputs": [],
   "source": [
    "gnb.showInference(bn,evs={'s':1,'c':[0.3,0.9]})"
   ]
  },
  {
   "cell_type": "markdown",
   "id": "518fca04",
   "metadata": {},
   "source": [
    "### inference with partial targets"
   ]
  },
  {
   "cell_type": "code",
   "execution_count": null,
   "id": "407d4110",
   "metadata": {},
   "outputs": [],
   "source": [
    "gnb.showInference(bn,evs={'c':[0.3,0.9]},targets={'c','w'})"
   ]
  },
  {
   "cell_type": "markdown",
   "id": "f9f775f3",
   "metadata": {},
   "source": [
    "# Testing independence in Bayesian networks\n",
    "\n",
    "One of the strength of the Bayesian networks is to form a model that allows to read qualitative knwoledge directly from the grap : the conditional independence. aGrUM/pyAgrum comes with a set of tools to query this qualitative knowledge."
   ]
  },
  {
   "cell_type": "code",
   "execution_count": null,
   "id": "3e1952af",
   "metadata": {},
   "outputs": [],
   "source": [
    "# fast create a BN (random paramaters are chosen for the CPTs)\n",
    "bn=gum.fastBN(\"A->B<-C->D->E<-F<-A;C->G<-H<-I->J\")\n",
    "bn"
   ]
  },
  {
   "cell_type": "markdown",
   "id": "3d3a89b7",
   "metadata": {},
   "source": [
    "# Conditional Independence\n",
    "\n",
    "## Directly\n",
    "First, one can directly test independence"
   ]
  },
  {
   "cell_type": "code",
   "execution_count": null,
   "id": "7c9eb60e",
   "metadata": {},
   "outputs": [],
   "source": [
    "def testIndep(bn,x,y,knowing):\n",
    "    res=\"\" if bn.isIndependent(x,y,knowing) else \" NOT\"\n",
    "    giv=\".\" if len(knowing)==0 else f\" given {knowing}.\"\n",
    "    print(f\"{x} and {y} are{res} independent{giv}\")\n",
    "    \n",
    "testIndep(bn,\"A\",\"C\",[])\n",
    "testIndep(bn,\"A\",\"C\",[\"E\"])\n",
    "print()\n",
    "testIndep(bn,\"E\",\"C\",[])\n",
    "testIndep(bn,\"E\",\"C\",[\"D\"])\n",
    "print()\n",
    "testIndep(bn,\"A\",\"I\",[])\n",
    "testIndep(bn,\"A\",\"I\",[\"E\"])\n",
    "testIndep(bn,\"A\",\"I\",[\"G\"])\n",
    "testIndep(bn,\"A\",\"I\",[\"E\",\"G\"])"
   ]
  },
  {
   "cell_type": "markdown",
   "id": "8681be04",
   "metadata": {},
   "source": [
    "## Markov Blanket\n",
    "\n",
    "Second, one can investigate the Markov Blanket of a node. The Markov blanket of a node $X$ is the set of nodes $M\\!B(X)$ such that $X$ is independent from the rest of the nodes given $M\\!B(X)$."
   ]
  },
  {
   "cell_type": "code",
   "execution_count": null,
   "id": "4138a624",
   "metadata": {},
   "outputs": [],
   "source": [
    "gum.MarkovBlanket(bn,\"C\")"
   ]
  },
  {
   "cell_type": "code",
   "execution_count": null,
   "id": "71ab3ba0",
   "metadata": {},
   "outputs": [],
   "source": [
    "gum.MarkovBlanket(bn,\"J\")"
   ]
  },
  {
   "cell_type": "markdown",
   "id": "02bb422a",
   "metadata": {},
   "source": [
    "## Minimal conditioning set and evidence Impact using probabilistic inference\n",
    "\n",
    "For a variable and a list of variables, one can find the sublist that effectively impacts the variable if the list of variables was observed."
   ]
  },
  {
   "cell_type": "code",
   "execution_count": null,
   "id": "3fe3b0af",
   "metadata": {},
   "outputs": [],
   "source": [
    "[bn.variable(i).name() for i in bn.minimalCondSet(\"B\",[\"A\",\"H\",\"J\"])]"
   ]
  },
  {
   "cell_type": "code",
   "execution_count": null,
   "id": "b3ffe46e",
   "metadata": {},
   "outputs": [],
   "source": [
    "[bn.variable(i).name() for i in bn.minimalCondSet(\"B\",[\"A\",\"G\",\"H\",\"J\"])]"
   ]
  },
  {
   "cell_type": "markdown",
   "id": "04ec8f37",
   "metadata": {},
   "source": [
    "This can be also viewed when using `gum.LazyPropagation.evidenceImpact(target,evidence)` which computes $P(target|evidence)$ but reduces as much as possible the set of needed evidence for the result :"
   ]
  },
  {
   "cell_type": "code",
   "execution_count": null,
   "id": "3a9d0ee2",
   "metadata": {},
   "outputs": [],
   "source": [
    "ie=gum.LazyPropagation(bn)\n",
    "ie.evidenceImpact(\"B\",[\"A\",\"C\",\"H\",\"G\"]) # H,G will be removed w.r.t the minimalCondSet above"
   ]
  },
  {
   "cell_type": "code",
   "execution_count": null,
   "id": "ccf288d7",
   "metadata": {},
   "outputs": [],
   "source": [
    "ie.evidenceImpact(\"B\",[\"A\",\"G\",\"H\",\"J\"]) # \"J\" is not necessary to compute the impact of the evidence"
   ]
  },
  {
   "cell_type": "markdown",
   "id": "69c9d7f4",
   "metadata": {},
   "source": [
    "## PS- the complete code to create the first image"
   ]
  },
  {
   "cell_type": "code",
   "execution_count": null,
   "id": "3577bf34",
   "metadata": {},
   "outputs": [],
   "source": [
    "bn=gum.fastBN(\"Cloudy?->Sprinkler?->Wet Grass?<-Rain?<-Cloudy?\")\n",
    "\n",
    "bn.cpt(\"Cloudy?\").fillWith([0.5,0.5])\n",
    "\n",
    "bn.cpt(\"Sprinkler?\")[:]=[[0.5,0.5],\n",
    "                         [0.9,0.1]]\n",
    "\n",
    "bn.cpt(\"Rain?\")[{'Cloudy?':0}]=[0.8,0.2]\n",
    "bn.cpt(\"Rain?\")[{'Cloudy?':1}]=[0.2,0.8]\n",
    "\n",
    "bn.cpt(\"Wet Grass?\")[{'Rain?': 0, 'Sprinkler?': 0}] = [1, 0]\n",
    "bn.cpt(\"Wet Grass?\")[{'Rain?': 0, 'Sprinkler?': 1}] = [0.1, 0.9]\n",
    "bn.cpt(\"Wet Grass?\")[{'Rain?': 1, 'Sprinkler?': 0}] = [0.1, 0.9]\n",
    "bn.cpt(\"Wet Grass?\")[{'Rain?': 1, 'Sprinkler?': 1}] = [0.01, 0.99]\n",
    "\n",
    "gum.config['notebook','potential_visible_digits']=2\n",
    "gnb.sideBySide(bn.cpt(\"Cloudy?\"),captions=['$P(Cloudy)$'])\n",
    "gnb.sideBySide(\n",
    "  gnb.getSideBySide(bn.cpt(\"Sprinkler?\"),captions=['$P(Sprinkler|Cloudy)$']),\n",
    "  gnb.getBN(bn,size=\"3!\"),\n",
    "  gnb.getSideBySide(bn.cpt(\"Rain?\"),captions=['$P(Rain|Cloudy)$']))\n",
    "gnb.sideBySide(bn.cpt(\"Wet Grass?\"),captions=['$P(WetGrass|Sprinkler,Rain)$'])"
   ]
  },
  {
   "cell_type": "markdown",
   "id": "1f847dc0",
   "metadata": {},
   "source": [
    "# Practicing with PyAgrum\n",
    "\n",
    "You will know try to built the Asthma network shown below\n",
    "\n",
    "<center><img src=\"./images/ma.png\" width=300></center>"
   ]
  },
  {
   "cell_type": "markdown",
   "id": "84e46bf8",
   "metadata": {},
   "source": [
    "### 1. Write the code to create the network topology and display it\n",
    "+ hour is a discrete variable with 24 values :0, 1, 2, 3, 4, 5, 6, 7, 8, 9, 10, 11, 12, 13, 14, 15, 16, 17, 18, 19, 20, 21, 22, 23\n",
    "+ weather is a discrete variable with 5 values :  sunny, cloudy, rainy, stormy, snowy \n",
    "+ accident is a binary discrete variable\n",
    "+ traffic is a discrete variable with 4 values : low, normal, heavy, exceptional\n",
    "+ pollution is a discrete variable with 10 values : 1, 2, 3, 4, 5, 6, 7, 8, 9, 10 \n",
    "+ asthma is a discrete variable with 2 values :  crisis, no_crisis"
   ]
  },
  {
   "cell_type": "code",
   "execution_count": null,
   "id": "808cce0a",
   "metadata": {},
   "outputs": [],
   "source": [
    "# TO COMPLETE"
   ]
  },
  {
   "cell_type": "markdown",
   "id": "853e8a3f",
   "metadata": {},
   "source": [
    "### 2. Create the probability tables\n",
    "\n",
    "The probabilities are given below in the bif format"
   ]
  },
  {
   "cell_type": "code",
   "execution_count": null,
   "id": "ebb10245",
   "metadata": {},
   "outputs": [],
   "source": [
    "## Only for the display of the probabilities (not python)\n",
    "probability ( hour ) {\n",
    "  table 0.0416, 0.0417, 0.0416, 0.0417, 0.0416, 0.0417, 0.0416, 0.0417, 0.0416, 0.0417, 0.0416, 0.0417, 0.0416, 0.0417, 0.0416, 0.0417, 0.0416, 0.0417, 0.0416, 0.0417, 0.0416, 0.0417, 0.0416, 0.0417;\n",
    "}\n",
    "\n",
    "probability ( weather ) {\n",
    "  table 0.2, 0.4, 0.3, 0.06, 0.04;\n",
    "}\n",
    "\n",
    "probability ( accident | weather ) {\n",
    "  (sunny) 0.1, 0.9;\n",
    "  (cloudy)    0.2, 0.8;\n",
    "  (rainy)   0.4, 0.6;\n",
    "  (stormy)    0.6, 0.4;\n",
    "  (snowy)    0.8, 0.2;\n",
    "}\n",
    "\n",
    "probability ( traffic | accident, hour ) {\n",
    " (yes, 0)  0.4,  0.5,  0.1,  0;\n",
    " (yes, 1)  0.4,  0.5,  0.1,  0;\n",
    " (yes, 2)  0.4,  0.5,  0.1,  0;\n",
    " (yes, 3)  0.4,  0.5,  0.1,  0;\n",
    " (yes, 4)  0.4,  0.5,  0.1,  0;\n",
    " (yes, 5)  0.35, 0.45, 0.2,  0;\n",
    " (yes, 6)  0.2,  0.4,  0.3,  0.1;\n",
    " (yes, 7)  0.1,  0.2,  0.6,  0.1;\n",
    " (yes, 8)  0.05, 0.1,  0.7,  0.15;\n",
    " (yes, 9)  0.05, 0.1,  0.7,  0.15;\n",
    " (yes, 10) 0.1,  0.2,  0.5,  0.2;\n",
    " (yes, 11) 0.2,  0.4,  0.3,  0.1;\n",
    " (yes, 12) 0.1,  0.2,  0.5,  0.2;\n",
    " (yes, 13) 0.1,  0.2,  0.5,  0.2;\n",
    " (yes, 14) 0.05, 0.1,  0.5,  0.35;\n",
    " (yes, 15) 0.1,  0.2,  0.5,  0.2;\n",
    " (yes, 16) 0.1,  0.2,  0.5,  0.2;\n",
    " (yes, 17) 0.05, 0.1,  0.7,  0.15;\n",
    " (yes, 18) 0.05, 0.1,  0.7,  0.15;\n",
    " (yes, 19) 0.05, 0.1,  0.7,  0.15;\n",
    " (yes, 20) 0.05, 0.1,  0.7,  0.15;\n",
    " (yes, 21) 0.1,  0.2,  0.6,  0.1;\n",
    " (yes, 22) 0.2,  0.4,  0.3,  0.1;\n",
    " (yes, 23) 0.35, 0.45, 0.2,  0;\n",
    " (no, 0)  0.7,  0.3,  0,    0;\n",
    " (no, 1)  0.7,  0.3,  0,    0;\n",
    " (no, 2)  0.7,  0.3,  0,    0;\n",
    " (no, 3)  0.7,  0.3,  0,    0;\n",
    " (no, 4)  0.7,  0.3,  0,    0;\n",
    " (no, 5)  0.6,  0.4,  0,    0;\n",
    " (no, 6)  0.4,  0.5,  0.1,  0;\n",
    " (no, 7)  0.15, 0.5,  0.3,  0.05;\n",
    " (no, 8)  0.15, 0.5,  0.3,  0.05;\n",
    " (no, 9)  0.15, 0.5,  0.3,  0.05;\n",
    " (no, 10) 0.4,  0.5,  0.1,  0;\n",
    " (no, 11) 0.4,  0.5,  0.1,  0;\n",
    " (no, 12) 0.25, 0.5,  0.2,  0.05;\n",
    " (no, 13) 0.25, 0.5,  0.2,  0.05;\n",
    " (no, 14) 0.15, 0.5,  0.3,  0.05;\n",
    " (no, 15) 0.3,  0.6,  0.1,  0;\n",
    " (no, 16) 0.2,  0.65, 0.1,  0.05;\n",
    " (no, 17) 0.15, 0.5,  0.3,  0.05;\n",
    " (no, 18) 0.15, 0.5,  0.3,  0.05;\n",
    " (no, 19) 0.15, 0.5,  0.3,  0.05;\n",
    " (no, 20) 0.15, 0.5,  0.3,  0.05;\n",
    " (no, 21) 0.3,  0.6,  0.1,  0;\n",
    " (no, 22) 0.4,  0.5,  0.1,  0;\n",
    " (no, 23) 0.7,  0.3,  0,    0;\n",
    "}\n",
    "\n",
    "probability ( pollution | traffic ) {\n",
    "  (low)       0, 0.0440, 0.5799, 0.3500, 0.0261, 0.0000, 0.0000, 0.0000, 0.0000, 0.0000;\n",
    "  (normal)     0, 0.0333, 0.3586, 0.2576, 0.2422, 0.0990, 0.0093, 0.0000, 0.0000, 0.0000;\n",
    "  (heavy)       0, 0.0355, 0.3591, 0.2345, 0.1500, 0.0775, 0.0384, 0.0700, 0.0200, 0.0150;\n",
    "  (exceptional) 0, 0.0000, 0.2500, 0.2000, 0.1300, 0.1000, 0.0800, 0.1220, 0.0750, 0.0430;\n",
    "}\n",
    "\n",
    "probability ( asthma | pollution ) {\n",
    "  (1)  0.1000, 0.9000;\n",
    "  (2)  0.2113, 0.7887;\n",
    "  (3)  0.1972, 0.8028;\n",
    "  (4)  0.2824, 0.7176;\n",
    "  (5)  0.4746, 0.5254;\n",
    "  (6)  0.5230, 0.4770;\n",
    "  (7)  0.6341, 0.3659;\n",
    "  (8)  0.8257, 0.1743;\n",
    "  (9)  0.8537, 0.1463;\n",
    "  (10) 0.9091, 0.0909;\n",
    "}\n"
   ]
  },
  {
   "cell_type": "markdown",
   "id": "9235c785",
   "metadata": {},
   "source": [
    "####  Display the conditional probability table of asthme given pollution\n"
   ]
  },
  {
   "cell_type": "code",
   "execution_count": null,
   "id": "a92dc152",
   "metadata": {},
   "outputs": [],
   "source": []
  },
  {
   "cell_type": "markdown",
   "id": "6b14a384",
   "metadata": {},
   "source": [
    "#### Display the probability distribution of Variable \"trafic\"\n"
   ]
  },
  {
   "cell_type": "code",
   "execution_count": null,
   "id": "67d12eef",
   "metadata": {},
   "outputs": [],
   "source": []
  },
  {
   "cell_type": "markdown",
   "id": "9353afe9",
   "metadata": {},
   "source": [
    "#### display the posterior distribution of \"asthme\" given that we observed that time is 8:00 and weather is cloudy\n"
   ]
  },
  {
   "cell_type": "code",
   "execution_count": null,
   "id": "aaf5b3ed",
   "metadata": {},
   "outputs": [],
   "source": []
  },
  {
   "cell_type": "markdown",
   "id": "a6db9ccc",
   "metadata": {},
   "source": [
    "#### display the posterior distributions of all the variables given that we observed that heure=8 and meteo=nuageux."
   ]
  },
  {
   "cell_type": "code",
   "execution_count": null,
   "id": "44f151d2",
   "metadata": {},
   "outputs": [],
   "source": []
  },
  {
   "cell_type": "code",
   "execution_count": null,
   "id": "833857f4",
   "metadata": {},
   "outputs": [],
   "source": []
  },
  {
   "cell_type": "code",
   "execution_count": null,
   "id": "3a19632f",
   "metadata": {},
   "outputs": [],
   "source": []
  }
 ],
 "metadata": {
  "kernelspec": {
   "display_name": "Python 3.8.3 64-bit ('base': conda)",
   "language": "python",
   "name": "python38364bitbaseconda65d6e82d11a14f018fba09890192514d"
  },
  "language_info": {
   "codemirror_mode": {
    "name": "ipython",
    "version": 3
   },
   "file_extension": ".py",
   "mimetype": "text/x-python",
   "name": "python",
   "nbconvert_exporter": "python",
   "pygments_lexer": "ipython3",
   "version": "3.8.3"
  }
 },
 "nbformat": 4,
 "nbformat_minor": 5
}
